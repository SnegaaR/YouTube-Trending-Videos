{
 "cells": [
  {
   "cell_type": "code",
   "execution_count": 1,
   "metadata": {},
   "outputs": [],
   "source": [
    "import pandas as pd\n",
    "import numpy as np\n",
    "import matplotlib.pyplot as plt\n",
    "%matplotlib inline\n",
    "import seaborn as sns\n",
    "import datetime"
   ]
  },
  {
   "cell_type": "markdown",
   "metadata": {},
   "source": [
    "Reading the dataset"
   ]
  },
  {
   "cell_type": "code",
   "execution_count": 2,
   "metadata": {},
   "outputs": [
    {
     "data": {
      "text/html": [
       "<div>\n",
       "<style scoped>\n",
       "    .dataframe tbody tr th:only-of-type {\n",
       "        vertical-align: middle;\n",
       "    }\n",
       "\n",
       "    .dataframe tbody tr th {\n",
       "        vertical-align: top;\n",
       "    }\n",
       "\n",
       "    .dataframe thead th {\n",
       "        text-align: right;\n",
       "    }\n",
       "</style>\n",
       "<table border=\"1\" class=\"dataframe\">\n",
       "  <thead>\n",
       "    <tr style=\"text-align: right;\">\n",
       "      <th></th>\n",
       "      <th>video_id</th>\n",
       "      <th>trending_date</th>\n",
       "      <th>title</th>\n",
       "      <th>channel_title</th>\n",
       "      <th>category_id</th>\n",
       "      <th>publish_time</th>\n",
       "      <th>tags</th>\n",
       "      <th>views</th>\n",
       "      <th>likes</th>\n",
       "      <th>dislikes</th>\n",
       "      <th>comment_count</th>\n",
       "      <th>thumbnail_link</th>\n",
       "      <th>comments_disabled</th>\n",
       "      <th>ratings_disabled</th>\n",
       "      <th>video_error_or_removed</th>\n",
       "      <th>description</th>\n",
       "    </tr>\n",
       "  </thead>\n",
       "  <tbody>\n",
       "    <tr>\n",
       "      <th>0</th>\n",
       "      <td>2kyS6SvSYSE</td>\n",
       "      <td>17.14.11</td>\n",
       "      <td>WE WANT TO TALK ABOUT OUR MARRIAGE</td>\n",
       "      <td>CaseyNeistat</td>\n",
       "      <td>22</td>\n",
       "      <td>2017-11-13T17:13:01.000Z</td>\n",
       "      <td>SHANtell martin</td>\n",
       "      <td>748374</td>\n",
       "      <td>57527</td>\n",
       "      <td>2966</td>\n",
       "      <td>15954</td>\n",
       "      <td>https://i.ytimg.com/vi/2kyS6SvSYSE/default.jpg</td>\n",
       "      <td>False</td>\n",
       "      <td>False</td>\n",
       "      <td>False</td>\n",
       "      <td>SHANTELL'S CHANNEL - https://www.youtube.com/s...</td>\n",
       "    </tr>\n",
       "    <tr>\n",
       "      <th>1</th>\n",
       "      <td>1ZAPwfrtAFY</td>\n",
       "      <td>17.14.11</td>\n",
       "      <td>The Trump Presidency: Last Week Tonight with J...</td>\n",
       "      <td>LastWeekTonight</td>\n",
       "      <td>24</td>\n",
       "      <td>2017-11-13T07:30:00.000Z</td>\n",
       "      <td>last week tonight trump presidency|\"last week ...</td>\n",
       "      <td>2418783</td>\n",
       "      <td>97185</td>\n",
       "      <td>6146</td>\n",
       "      <td>12703</td>\n",
       "      <td>https://i.ytimg.com/vi/1ZAPwfrtAFY/default.jpg</td>\n",
       "      <td>False</td>\n",
       "      <td>False</td>\n",
       "      <td>False</td>\n",
       "      <td>One year after the presidential election, John...</td>\n",
       "    </tr>\n",
       "    <tr>\n",
       "      <th>2</th>\n",
       "      <td>5qpjK5DgCt4</td>\n",
       "      <td>17.14.11</td>\n",
       "      <td>Racist Superman | Rudy Mancuso, King Bach &amp; Le...</td>\n",
       "      <td>Rudy Mancuso</td>\n",
       "      <td>23</td>\n",
       "      <td>2017-11-12T19:05:24.000Z</td>\n",
       "      <td>racist superman|\"rudy\"|\"mancuso\"|\"king\"|\"bach\"...</td>\n",
       "      <td>3191434</td>\n",
       "      <td>146033</td>\n",
       "      <td>5339</td>\n",
       "      <td>8181</td>\n",
       "      <td>https://i.ytimg.com/vi/5qpjK5DgCt4/default.jpg</td>\n",
       "      <td>False</td>\n",
       "      <td>False</td>\n",
       "      <td>False</td>\n",
       "      <td>WATCH MY PREVIOUS VIDEO ▶ \\n\\nSUBSCRIBE ► http...</td>\n",
       "    </tr>\n",
       "    <tr>\n",
       "      <th>3</th>\n",
       "      <td>puqaWrEC7tY</td>\n",
       "      <td>17.14.11</td>\n",
       "      <td>Nickelback Lyrics: Real or Fake?</td>\n",
       "      <td>Good Mythical Morning</td>\n",
       "      <td>24</td>\n",
       "      <td>2017-11-13T11:00:04.000Z</td>\n",
       "      <td>rhett and link|\"gmm\"|\"good mythical morning\"|\"...</td>\n",
       "      <td>343168</td>\n",
       "      <td>10172</td>\n",
       "      <td>666</td>\n",
       "      <td>2146</td>\n",
       "      <td>https://i.ytimg.com/vi/puqaWrEC7tY/default.jpg</td>\n",
       "      <td>False</td>\n",
       "      <td>False</td>\n",
       "      <td>False</td>\n",
       "      <td>Today we find out if Link is a Nickelback amat...</td>\n",
       "    </tr>\n",
       "    <tr>\n",
       "      <th>4</th>\n",
       "      <td>d380meD0W0M</td>\n",
       "      <td>17.14.11</td>\n",
       "      <td>I Dare You: GOING BALD!?</td>\n",
       "      <td>nigahiga</td>\n",
       "      <td>24</td>\n",
       "      <td>2017-11-12T18:01:41.000Z</td>\n",
       "      <td>ryan|\"higa\"|\"higatv\"|\"nigahiga\"|\"i dare you\"|\"...</td>\n",
       "      <td>2095731</td>\n",
       "      <td>132235</td>\n",
       "      <td>1989</td>\n",
       "      <td>17518</td>\n",
       "      <td>https://i.ytimg.com/vi/d380meD0W0M/default.jpg</td>\n",
       "      <td>False</td>\n",
       "      <td>False</td>\n",
       "      <td>False</td>\n",
       "      <td>I know it's been a while since we did this sho...</td>\n",
       "    </tr>\n",
       "  </tbody>\n",
       "</table>\n",
       "</div>"
      ],
      "text/plain": [
       "      video_id trending_date  \\\n",
       "0  2kyS6SvSYSE      17.14.11   \n",
       "1  1ZAPwfrtAFY      17.14.11   \n",
       "2  5qpjK5DgCt4      17.14.11   \n",
       "3  puqaWrEC7tY      17.14.11   \n",
       "4  d380meD0W0M      17.14.11   \n",
       "\n",
       "                                               title          channel_title  \\\n",
       "0                 WE WANT TO TALK ABOUT OUR MARRIAGE           CaseyNeistat   \n",
       "1  The Trump Presidency: Last Week Tonight with J...        LastWeekTonight   \n",
       "2  Racist Superman | Rudy Mancuso, King Bach & Le...           Rudy Mancuso   \n",
       "3                   Nickelback Lyrics: Real or Fake?  Good Mythical Morning   \n",
       "4                           I Dare You: GOING BALD!?               nigahiga   \n",
       "\n",
       "   category_id              publish_time  \\\n",
       "0           22  2017-11-13T17:13:01.000Z   \n",
       "1           24  2017-11-13T07:30:00.000Z   \n",
       "2           23  2017-11-12T19:05:24.000Z   \n",
       "3           24  2017-11-13T11:00:04.000Z   \n",
       "4           24  2017-11-12T18:01:41.000Z   \n",
       "\n",
       "                                                tags    views   likes  \\\n",
       "0                                    SHANtell martin   748374   57527   \n",
       "1  last week tonight trump presidency|\"last week ...  2418783   97185   \n",
       "2  racist superman|\"rudy\"|\"mancuso\"|\"king\"|\"bach\"...  3191434  146033   \n",
       "3  rhett and link|\"gmm\"|\"good mythical morning\"|\"...   343168   10172   \n",
       "4  ryan|\"higa\"|\"higatv\"|\"nigahiga\"|\"i dare you\"|\"...  2095731  132235   \n",
       "\n",
       "   dislikes  comment_count                                  thumbnail_link  \\\n",
       "0      2966          15954  https://i.ytimg.com/vi/2kyS6SvSYSE/default.jpg   \n",
       "1      6146          12703  https://i.ytimg.com/vi/1ZAPwfrtAFY/default.jpg   \n",
       "2      5339           8181  https://i.ytimg.com/vi/5qpjK5DgCt4/default.jpg   \n",
       "3       666           2146  https://i.ytimg.com/vi/puqaWrEC7tY/default.jpg   \n",
       "4      1989          17518  https://i.ytimg.com/vi/d380meD0W0M/default.jpg   \n",
       "\n",
       "   comments_disabled  ratings_disabled  video_error_or_removed  \\\n",
       "0              False             False                   False   \n",
       "1              False             False                   False   \n",
       "2              False             False                   False   \n",
       "3              False             False                   False   \n",
       "4              False             False                   False   \n",
       "\n",
       "                                         description  \n",
       "0  SHANTELL'S CHANNEL - https://www.youtube.com/s...  \n",
       "1  One year after the presidential election, John...  \n",
       "2  WATCH MY PREVIOUS VIDEO ▶ \\n\\nSUBSCRIBE ► http...  \n",
       "3  Today we find out if Link is a Nickelback amat...  \n",
       "4  I know it's been a while since we did this sho...  "
      ]
     },
     "execution_count": 2,
     "metadata": {},
     "output_type": "execute_result"
    }
   ],
   "source": [
    "df=pd.read_csv(\"USvideos.csv\")\n",
    "df.head()"
   ]
  },
  {
   "cell_type": "code",
   "execution_count": 3,
   "metadata": {},
   "outputs": [
    {
     "data": {
      "text/plain": [
       "(40949, 16)"
      ]
     },
     "execution_count": 3,
     "metadata": {},
     "output_type": "execute_result"
    }
   ],
   "source": [
    "df.shape"
   ]
  },
  {
   "cell_type": "markdown",
   "metadata": {},
   "source": [
    "Checking for NULL values"
   ]
  },
  {
   "cell_type": "code",
   "execution_count": 4,
   "metadata": {},
   "outputs": [
    {
     "name": "stdout",
     "output_type": "stream",
     "text": [
      "The null values are video_id                    0\n",
      "trending_date               0\n",
      "title                       0\n",
      "channel_title               0\n",
      "category_id                 0\n",
      "publish_time                0\n",
      "tags                        0\n",
      "views                       0\n",
      "likes                       0\n",
      "dislikes                    0\n",
      "comment_count               0\n",
      "thumbnail_link              0\n",
      "comments_disabled           0\n",
      "ratings_disabled            0\n",
      "video_error_or_removed      0\n",
      "description               570\n",
      "dtype: int64\n"
     ]
    }
   ],
   "source": [
    "print(\"The null values are\", df.isnull().sum())"
   ]
  },
  {
   "cell_type": "markdown",
   "metadata": {},
   "source": [
    "Dropping duplicate values"
   ]
  },
  {
   "cell_type": "code",
   "execution_count": 5,
   "metadata": {},
   "outputs": [
    {
     "data": {
      "text/plain": [
       "(6351, 16)"
      ]
     },
     "execution_count": 5,
     "metadata": {},
     "output_type": "execute_result"
    }
   ],
   "source": [
    "df.drop_duplicates(subset=\"video_id\",keep='first',inplace=True)\n",
    "df.shape"
   ]
  },
  {
   "cell_type": "markdown",
   "metadata": {},
   "source": [
    "Summary"
   ]
  },
  {
   "cell_type": "code",
   "execution_count": 6,
   "metadata": {},
   "outputs": [
    {
     "data": {
      "text/html": [
       "<div>\n",
       "<style scoped>\n",
       "    .dataframe tbody tr th:only-of-type {\n",
       "        vertical-align: middle;\n",
       "    }\n",
       "\n",
       "    .dataframe tbody tr th {\n",
       "        vertical-align: top;\n",
       "    }\n",
       "\n",
       "    .dataframe thead th {\n",
       "        text-align: right;\n",
       "    }\n",
       "</style>\n",
       "<table border=\"1\" class=\"dataframe\">\n",
       "  <thead>\n",
       "    <tr style=\"text-align: right;\">\n",
       "      <th></th>\n",
       "      <th>category_id</th>\n",
       "      <th>views</th>\n",
       "      <th>likes</th>\n",
       "      <th>dislikes</th>\n",
       "      <th>comment_count</th>\n",
       "    </tr>\n",
       "  </thead>\n",
       "  <tbody>\n",
       "    <tr>\n",
       "      <th>count</th>\n",
       "      <td>6,351</td>\n",
       "      <td>6,351</td>\n",
       "      <td>6,351</td>\n",
       "      <td>6,351</td>\n",
       "      <td>6,351</td>\n",
       "    </tr>\n",
       "    <tr>\n",
       "      <th>mean</th>\n",
       "      <td>20</td>\n",
       "      <td>758,210</td>\n",
       "      <td>34,494</td>\n",
       "      <td>1,427</td>\n",
       "      <td>4,502</td>\n",
       "    </tr>\n",
       "    <tr>\n",
       "      <th>std</th>\n",
       "      <td>7</td>\n",
       "      <td>1,928,993</td>\n",
       "      <td>116,244</td>\n",
       "      <td>12,079</td>\n",
       "      <td>21,460</td>\n",
       "    </tr>\n",
       "    <tr>\n",
       "      <th>min</th>\n",
       "      <td>1</td>\n",
       "      <td>549</td>\n",
       "      <td>0</td>\n",
       "      <td>0</td>\n",
       "      <td>0</td>\n",
       "    </tr>\n",
       "    <tr>\n",
       "      <th>25%</th>\n",
       "      <td>17</td>\n",
       "      <td>83,511</td>\n",
       "      <td>1,908</td>\n",
       "      <td>72</td>\n",
       "      <td>261</td>\n",
       "    </tr>\n",
       "    <tr>\n",
       "      <th>50%</th>\n",
       "      <td>24</td>\n",
       "      <td>270,902</td>\n",
       "      <td>7,987</td>\n",
       "      <td>242</td>\n",
       "      <td>921</td>\n",
       "    </tr>\n",
       "    <tr>\n",
       "      <th>75%</th>\n",
       "      <td>25</td>\n",
       "      <td>751,266</td>\n",
       "      <td>25,163</td>\n",
       "      <td>763</td>\n",
       "      <td>2,845</td>\n",
       "    </tr>\n",
       "    <tr>\n",
       "      <th>max</th>\n",
       "      <td>43</td>\n",
       "      <td>48,431,654</td>\n",
       "      <td>3,880,071</td>\n",
       "      <td>629,120</td>\n",
       "      <td>733,373</td>\n",
       "    </tr>\n",
       "  </tbody>\n",
       "</table>\n",
       "</div>"
      ],
      "text/plain": [
       "       category_id      views     likes  dislikes  comment_count\n",
       "count        6,351      6,351     6,351     6,351          6,351\n",
       "mean            20    758,210    34,494     1,427          4,502\n",
       "std              7  1,928,993   116,244    12,079         21,460\n",
       "min              1        549         0         0              0\n",
       "25%             17     83,511     1,908        72            261\n",
       "50%             24    270,902     7,987       242            921\n",
       "75%             25    751,266    25,163       763          2,845\n",
       "max             43 48,431,654 3,880,071   629,120        733,373"
      ]
     },
     "execution_count": 6,
     "metadata": {},
     "output_type": "execute_result"
    }
   ],
   "source": [
    "pd.options.display.float_format = \"{:,.0f}\".format\n",
    "df.describe()"
   ]
  },
  {
   "cell_type": "markdown",
   "metadata": {},
   "source": [
    "# 1. Generate a correlation heatmap for views, likes, dislikes and comment count"
   ]
  },
  {
   "cell_type": "code",
   "execution_count": 7,
   "metadata": {},
   "outputs": [
    {
     "data": {
      "image/png": "[encoded data removed]",
      "text/plain": [
       "<Figure size 432x288 with 2 Axes>"
      ]
     },
     "metadata": {
      "needs_background": "light"
     },
     "output_type": "display_data"
    }
   ],
   "source": [
    "corr = df[['views', 'likes', 'dislikes', 'comment_count']].corr()\n",
    "sns.heatmap(corr, annot = True)\n",
    "plt.show()"
   ]
  },
  {
   "cell_type": "markdown",
   "metadata": {},
   "source": [
    "This shows that there is a strong positive correlation between number of likes and number of views"
   ]
  },
  {
   "cell_type": "markdown",
   "metadata": {},
   "source": [
    "# Generate a general correlation heatmap"
   ]
  },
  {
   "cell_type": "code",
   "execution_count": 8,
   "metadata": {},
   "outputs": [
    {
     "data": {
      "text/html": [
       "<style  type=\"text/css\" >\n",
       "    #T_11f3b088_9e15_11eb_8795_f4b7e223a854row0_col0 {\n",
       "            background-color:  #ff0000;\n",
       "            color:  #f1f1f1;\n",
       "        }    #T_11f3b088_9e15_11eb_8795_f4b7e223a854row0_col1 {\n",
       "            background-color:  #8000ff;\n",
       "            color:  #f1f1f1;\n",
       "        }    #T_11f3b088_9e15_11eb_8795_f4b7e223a854row0_col2 {\n",
       "            background-color:  #8000ff;\n",
       "            color:  #f1f1f1;\n",
       "        }    #T_11f3b088_9e15_11eb_8795_f4b7e223a854row0_col3 {\n",
       "            background-color:  #8000ff;\n",
       "            color:  #f1f1f1;\n",
       "        }    #T_11f3b088_9e15_11eb_8795_f4b7e223a854row0_col4 {\n",
       "            background-color:  #8000ff;\n",
       "            color:  #f1f1f1;\n",
       "        }    #T_11f3b088_9e15_11eb_8795_f4b7e223a854row0_col5 {\n",
       "            background-color:  #6032fe;\n",
       "            color:  #f1f1f1;\n",
       "        }    #T_11f3b088_9e15_11eb_8795_f4b7e223a854row0_col6 {\n",
       "            background-color:  #7e03ff;\n",
       "            color:  #f1f1f1;\n",
       "        }    #T_11f3b088_9e15_11eb_8795_f4b7e223a854row0_col7 {\n",
       "            background-color:  #8000ff;\n",
       "            color:  #f1f1f1;\n",
       "        }    #T_11f3b088_9e15_11eb_8795_f4b7e223a854row1_col0 {\n",
       "            background-color:  #7216ff;\n",
       "            color:  #f1f1f1;\n",
       "        }    #T_11f3b088_9e15_11eb_8795_f4b7e223a854row1_col1 {\n",
       "            background-color:  #ff0000;\n",
       "            color:  #f1f1f1;\n",
       "        }    #T_11f3b088_9e15_11eb_8795_f4b7e223a854row1_col2 {\n",
       "            background-color:  #ff9d53;\n",
       "            color:  #000000;\n",
       "        }    #T_11f3b088_9e15_11eb_8795_f4b7e223a854row1_col3 {\n",
       "            background-color:  #4ef3cd;\n",
       "            color:  #000000;\n",
       "        }    #T_11f3b088_9e15_11eb_8795_f4b7e223a854row1_col4 {\n",
       "            background-color:  #bced8f;\n",
       "            color:  #000000;\n",
       "        }    #T_11f3b088_9e15_11eb_8795_f4b7e223a854row1_col5 {\n",
       "            background-color:  #6c1fff;\n",
       "            color:  #f1f1f1;\n",
       "        }    #T_11f3b088_9e15_11eb_8795_f4b7e223a854row1_col6 {\n",
       "            background-color:  #7019ff;\n",
       "            color:  #f1f1f1;\n",
       "        }    #T_11f3b088_9e15_11eb_8795_f4b7e223a854row1_col7 {\n",
       "            background-color:  #780dff;\n",
       "            color:  #f1f1f1;\n",
       "        }    #T_11f3b088_9e15_11eb_8795_f4b7e223a854row2_col0 {\n",
       "            background-color:  #8000ff;\n",
       "            color:  #f1f1f1;\n",
       "        }    #T_11f3b088_9e15_11eb_8795_f4b7e223a854row2_col1 {\n",
       "            background-color:  #ffa055;\n",
       "            color:  #000000;\n",
       "        }    #T_11f3b088_9e15_11eb_8795_f4b7e223a854row2_col2 {\n",
       "            background-color:  #ff0000;\n",
       "            color:  #f1f1f1;\n",
       "        }    #T_11f3b088_9e15_11eb_8795_f4b7e223a854row2_col3 {\n",
       "            background-color:  #3dead5;\n",
       "            color:  #000000;\n",
       "        }    #T_11f3b088_9e15_11eb_8795_f4b7e223a854row2_col4 {\n",
       "            background-color:  #ff8c49;\n",
       "            color:  #000000;\n",
       "        }    #T_11f3b088_9e15_11eb_8795_f4b7e223a854row2_col5 {\n",
       "            background-color:  #8000ff;\n",
       "            color:  #f1f1f1;\n",
       "        }    #T_11f3b088_9e15_11eb_8795_f4b7e223a854row2_col6 {\n",
       "            background-color:  #8000ff;\n",
       "            color:  #f1f1f1;\n",
       "        }    #T_11f3b088_9e15_11eb_8795_f4b7e223a854row2_col7 {\n",
       "            background-color:  #7c06ff;\n",
       "            color:  #f1f1f1;\n",
       "        }    #T_11f3b088_9e15_11eb_8795_f4b7e223a854row3_col0 {\n",
       "            background-color:  #4c50fc;\n",
       "            color:  #f1f1f1;\n",
       "        }    #T_11f3b088_9e15_11eb_8795_f4b7e223a854row3_col1 {\n",
       "            background-color:  #64fbc3;\n",
       "            color:  #000000;\n",
       "        }    #T_11f3b088_9e15_11eb_8795_f4b7e223a854row3_col2 {\n",
       "            background-color:  #5df9c7;\n",
       "            color:  #000000;\n",
       "        }    #T_11f3b088_9e15_11eb_8795_f4b7e223a854row3_col3 {\n",
       "            background-color:  #ff0000;\n",
       "            color:  #f1f1f1;\n",
       "        }    #T_11f3b088_9e15_11eb_8795_f4b7e223a854row3_col4 {\n",
       "            background-color:  #e4cf74;\n",
       "            color:  #000000;\n",
       "        }    #T_11f3b088_9e15_11eb_8795_f4b7e223a854row3_col5 {\n",
       "            background-color:  #7610ff;\n",
       "            color:  #f1f1f1;\n",
       "        }    #T_11f3b088_9e15_11eb_8795_f4b7e223a854row3_col6 {\n",
       "            background-color:  #7c06ff;\n",
       "            color:  #f1f1f1;\n",
       "        }    #T_11f3b088_9e15_11eb_8795_f4b7e223a854row3_col7 {\n",
       "            background-color:  #7a09ff;\n",
       "            color:  #f1f1f1;\n",
       "        }    #T_11f3b088_9e15_11eb_8795_f4b7e223a854row4_col0 {\n",
       "            background-color:  #6032fe;\n",
       "            color:  #f1f1f1;\n",
       "        }    #T_11f3b088_9e15_11eb_8795_f4b7e223a854row4_col1 {\n",
       "            background-color:  #c4e88a;\n",
       "            color:  #000000;\n",
       "        }    #T_11f3b088_9e15_11eb_8795_f4b7e223a854row4_col2 {\n",
       "            background-color:  #ff8143;\n",
       "            color:  #000000;\n",
       "        }    #T_11f3b088_9e15_11eb_8795_f4b7e223a854row4_col3 {\n",
       "            background-color:  #dcd67a;\n",
       "            color:  #000000;\n",
       "        }    #T_11f3b088_9e15_11eb_8795_f4b7e223a854row4_col4 {\n",
       "            background-color:  #ff0000;\n",
       "            color:  #f1f1f1;\n",
       "        }    #T_11f3b088_9e15_11eb_8795_f4b7e223a854row4_col5 {\n",
       "            background-color:  #8000ff;\n",
       "            color:  #f1f1f1;\n",
       "        }    #T_11f3b088_9e15_11eb_8795_f4b7e223a854row4_col6 {\n",
       "            background-color:  #7e03ff;\n",
       "            color:  #f1f1f1;\n",
       "        }    #T_11f3b088_9e15_11eb_8795_f4b7e223a854row4_col7 {\n",
       "            background-color:  #7c06ff;\n",
       "            color:  #f1f1f1;\n",
       "        }    #T_11f3b088_9e15_11eb_8795_f4b7e223a854row5_col0 {\n",
       "            background-color:  #3473f8;\n",
       "            color:  #000000;\n",
       "        }    #T_11f3b088_9e15_11eb_8795_f4b7e223a854row5_col1 {\n",
       "            background-color:  #4e4dfc;\n",
       "            color:  #f1f1f1;\n",
       "        }    #T_11f3b088_9e15_11eb_8795_f4b7e223a854row5_col2 {\n",
       "            background-color:  #5247fc;\n",
       "            color:  #f1f1f1;\n",
       "        }    #T_11f3b088_9e15_11eb_8795_f4b7e223a854row5_col3 {\n",
       "            background-color:  #7c06ff;\n",
       "            color:  #f1f1f1;\n",
       "        }    #T_11f3b088_9e15_11eb_8795_f4b7e223a854row5_col4 {\n",
       "            background-color:  #7216ff;\n",
       "            color:  #f1f1f1;\n",
       "        }    #T_11f3b088_9e15_11eb_8795_f4b7e223a854row5_col5 {\n",
       "            background-color:  #ff0000;\n",
       "            color:  #f1f1f1;\n",
       "        }    #T_11f3b088_9e15_11eb_8795_f4b7e223a854row5_col6 {\n",
       "            background-color:  #1acfe3;\n",
       "            color:  #000000;\n",
       "        }    #T_11f3b088_9e15_11eb_8795_f4b7e223a854row5_col7 {\n",
       "            background-color:  #7c06ff;\n",
       "            color:  #f1f1f1;\n",
       "        }    #T_11f3b088_9e15_11eb_8795_f4b7e223a854row6_col0 {\n",
       "            background-color:  #4e4dfc;\n",
       "            color:  #f1f1f1;\n",
       "        }    #T_11f3b088_9e15_11eb_8795_f4b7e223a854row6_col1 {\n",
       "            background-color:  #4e4dfc;\n",
       "            color:  #f1f1f1;\n",
       "        }    #T_11f3b088_9e15_11eb_8795_f4b7e223a854row6_col2 {\n",
       "            background-color:  #504afc;\n",
       "            color:  #f1f1f1;\n",
       "        }    #T_11f3b088_9e15_11eb_8795_f4b7e223a854row6_col3 {\n",
       "            background-color:  #8000ff;\n",
       "            color:  #f1f1f1;\n",
       "        }    #T_11f3b088_9e15_11eb_8795_f4b7e223a854row6_col4 {\n",
       "            background-color:  #6c1fff;\n",
       "            color:  #f1f1f1;\n",
       "        }    #T_11f3b088_9e15_11eb_8795_f4b7e223a854row6_col5 {\n",
       "            background-color:  #1dd1e2;\n",
       "            color:  #000000;\n",
       "        }    #T_11f3b088_9e15_11eb_8795_f4b7e223a854row6_col6 {\n",
       "            background-color:  #ff0000;\n",
       "            color:  #f1f1f1;\n",
       "        }    #T_11f3b088_9e15_11eb_8795_f4b7e223a854row6_col7 {\n",
       "            background-color:  #7c06ff;\n",
       "            color:  #f1f1f1;\n",
       "        }    #T_11f3b088_9e15_11eb_8795_f4b7e223a854row7_col0 {\n",
       "            background-color:  #4c50fc;\n",
       "            color:  #f1f1f1;\n",
       "        }    #T_11f3b088_9e15_11eb_8795_f4b7e223a854row7_col1 {\n",
       "            background-color:  #5247fc;\n",
       "            color:  #f1f1f1;\n",
       "        }    #T_11f3b088_9e15_11eb_8795_f4b7e223a854row7_col2 {\n",
       "            background-color:  #4659fb;\n",
       "            color:  #f1f1f1;\n",
       "        }    #T_11f3b088_9e15_11eb_8795_f4b7e223a854row7_col3 {\n",
       "            background-color:  #7a09ff;\n",
       "            color:  #f1f1f1;\n",
       "        }    #T_11f3b088_9e15_11eb_8795_f4b7e223a854row7_col4 {\n",
       "            background-color:  #6629fe;\n",
       "            color:  #f1f1f1;\n",
       "        }    #T_11f3b088_9e15_11eb_8795_f4b7e223a854row7_col5 {\n",
       "            background-color:  #7610ff;\n",
       "            color:  #f1f1f1;\n",
       "        }    #T_11f3b088_9e15_11eb_8795_f4b7e223a854row7_col6 {\n",
       "            background-color:  #780dff;\n",
       "            color:  #f1f1f1;\n",
       "        }    #T_11f3b088_9e15_11eb_8795_f4b7e223a854row7_col7 {\n",
       "            background-color:  #ff0000;\n",
       "            color:  #f1f1f1;\n",
       "        }</style><table id=\"T_11f3b088_9e15_11eb_8795_f4b7e223a854\" ><thead>    <tr>        <th class=\"blank level0\" ></th>        <th class=\"col_heading level0 col0\" >category_id</th>        <th class=\"col_heading level0 col1\" >views</th>        <th class=\"col_heading level0 col2\" >likes</th>        <th class=\"col_heading level0 col3\" >dislikes</th>        <th class=\"col_heading level0 col4\" >comment_count</th>        <th class=\"col_heading level0 col5\" >comments_disabled</th>        <th class=\"col_heading level0 col6\" >ratings_disabled</th>        <th class=\"col_heading level0 col7\" >video_error_or_removed</th>    </tr></thead><tbody>\n",
       "                <tr>\n",
       "                        <th id=\"T_11f3b088_9e15_11eb_8795_f4b7e223a854level0_row0\" class=\"row_heading level0 row0\" >category_id</th>\n",
       "                        <td id=\"T_11f3b088_9e15_11eb_8795_f4b7e223a854row0_col0\" class=\"data row0 col0\" >1</td>\n",
       "                        <td id=\"T_11f3b088_9e15_11eb_8795_f4b7e223a854row0_col1\" class=\"data row0 col1\" >-0.0960795</td>\n",
       "                        <td id=\"T_11f3b088_9e15_11eb_8795_f4b7e223a854row0_col2\" class=\"data row0 col2\" >-0.129118</td>\n",
       "                        <td id=\"T_11f3b088_9e15_11eb_8795_f4b7e223a854row0_col3\" class=\"data row0 col3\" >-0.0114617</td>\n",
       "                        <td id=\"T_11f3b088_9e15_11eb_8795_f4b7e223a854row0_col4\" class=\"data row0 col4\" >-0.0555858</td>\n",
       "                        <td id=\"T_11f3b088_9e15_11eb_8795_f4b7e223a854row0_col5\" class=\"data row0 col5\" >0.0413824</td>\n",
       "                        <td id=\"T_11f3b088_9e15_11eb_8795_f4b7e223a854row0_col6\" class=\"data row0 col6\" >-0.0145474</td>\n",
       "                        <td id=\"T_11f3b088_9e15_11eb_8795_f4b7e223a854row0_col7\" class=\"data row0 col7\" >-0.0123905</td>\n",
       "            </tr>\n",
       "            <tr>\n",
       "                        <th id=\"T_11f3b088_9e15_11eb_8795_f4b7e223a854level0_row1\" class=\"row_heading level0 row1\" >views</th>\n",
       "                        <td id=\"T_11f3b088_9e15_11eb_8795_f4b7e223a854row1_col0\" class=\"data row1 col0\" >-0.0960795</td>\n",
       "                        <td id=\"T_11f3b088_9e15_11eb_8795_f4b7e223a854row1_col1\" class=\"data row1 col1\" >1</td>\n",
       "                        <td id=\"T_11f3b088_9e15_11eb_8795_f4b7e223a854row1_col2\" class=\"data row1 col2\" >0.761127</td>\n",
       "                        <td id=\"T_11f3b088_9e15_11eb_8795_f4b7e223a854row1_col3\" class=\"data row1 col3\" >0.396135</td>\n",
       "                        <td id=\"T_11f3b088_9e15_11eb_8795_f4b7e223a854row1_col4\" class=\"data row1 col4\" >0.599628</td>\n",
       "                        <td id=\"T_11f3b088_9e15_11eb_8795_f4b7e223a854row1_col5\" class=\"data row1 col5\" >0.0138883</td>\n",
       "                        <td id=\"T_11f3b088_9e15_11eb_8795_f4b7e223a854row1_col6\" class=\"data row1 col6\" >0.0145187</td>\n",
       "                        <td id=\"T_11f3b088_9e15_11eb_8795_f4b7e223a854row1_col7\" class=\"data row1 col7\" >0.00591578</td>\n",
       "            </tr>\n",
       "            <tr>\n",
       "                        <th id=\"T_11f3b088_9e15_11eb_8795_f4b7e223a854level0_row2\" class=\"row_heading level0 row2\" >likes</th>\n",
       "                        <td id=\"T_11f3b088_9e15_11eb_8795_f4b7e223a854row2_col0\" class=\"data row2 col0\" >-0.129118</td>\n",
       "                        <td id=\"T_11f3b088_9e15_11eb_8795_f4b7e223a854row2_col1\" class=\"data row2 col1\" >0.761127</td>\n",
       "                        <td id=\"T_11f3b088_9e15_11eb_8795_f4b7e223a854row2_col2\" class=\"data row2 col2\" >1</td>\n",
       "                        <td id=\"T_11f3b088_9e15_11eb_8795_f4b7e223a854row2_col3\" class=\"data row2 col3\" >0.360274</td>\n",
       "                        <td id=\"T_11f3b088_9e15_11eb_8795_f4b7e223a854row2_col4\" class=\"data row2 col4\" >0.806198</td>\n",
       "                        <td id=\"T_11f3b088_9e15_11eb_8795_f4b7e223a854row2_col5\" class=\"data row2 col5\" >-0.0247054</td>\n",
       "                        <td id=\"T_11f3b088_9e15_11eb_8795_f4b7e223a854row2_col6\" class=\"data row2 col6\" >-0.0190265</td>\n",
       "                        <td id=\"T_11f3b088_9e15_11eb_8795_f4b7e223a854row2_col7\" class=\"data row2 col7\" >-0.0011007</td>\n",
       "            </tr>\n",
       "            <tr>\n",
       "                        <th id=\"T_11f3b088_9e15_11eb_8795_f4b7e223a854level0_row3\" class=\"row_heading level0 row3\" >dislikes</th>\n",
       "                        <td id=\"T_11f3b088_9e15_11eb_8795_f4b7e223a854row3_col0\" class=\"data row3 col0\" >-0.0114617</td>\n",
       "                        <td id=\"T_11f3b088_9e15_11eb_8795_f4b7e223a854row3_col1\" class=\"data row3 col1\" >0.396135</td>\n",
       "                        <td id=\"T_11f3b088_9e15_11eb_8795_f4b7e223a854row3_col2\" class=\"data row3 col2\" >0.360274</td>\n",
       "                        <td id=\"T_11f3b088_9e15_11eb_8795_f4b7e223a854row3_col3\" class=\"data row3 col3\" >1</td>\n",
       "                        <td id=\"T_11f3b088_9e15_11eb_8795_f4b7e223a854row3_col4\" class=\"data row3 col4\" >0.679838</td>\n",
       "                        <td id=\"T_11f3b088_9e15_11eb_8795_f4b7e223a854row3_col5\" class=\"data row3 col5\" >-0.00276963</td>\n",
       "                        <td id=\"T_11f3b088_9e15_11eb_8795_f4b7e223a854row3_col6\" class=\"data row3 col6\" >-0.00757631</td>\n",
       "                        <td id=\"T_11f3b088_9e15_11eb_8795_f4b7e223a854row3_col7\" class=\"data row3 col7\" >0.00128834</td>\n",
       "            </tr>\n",
       "            <tr>\n",
       "                        <th id=\"T_11f3b088_9e15_11eb_8795_f4b7e223a854level0_row4\" class=\"row_heading level0 row4\" >comment_count</th>\n",
       "                        <td id=\"T_11f3b088_9e15_11eb_8795_f4b7e223a854row4_col0\" class=\"data row4 col0\" >-0.0555858</td>\n",
       "                        <td id=\"T_11f3b088_9e15_11eb_8795_f4b7e223a854row4_col1\" class=\"data row4 col1\" >0.599628</td>\n",
       "                        <td id=\"T_11f3b088_9e15_11eb_8795_f4b7e223a854row4_col2\" class=\"data row4 col2\" >0.806198</td>\n",
       "                        <td id=\"T_11f3b088_9e15_11eb_8795_f4b7e223a854row4_col3\" class=\"data row4 col3\" >0.679838</td>\n",
       "                        <td id=\"T_11f3b088_9e15_11eb_8795_f4b7e223a854row4_col4\" class=\"data row4 col4\" >1</td>\n",
       "                        <td id=\"T_11f3b088_9e15_11eb_8795_f4b7e223a854row4_col5\" class=\"data row4 col5\" >-0.0266685</td>\n",
       "                        <td id=\"T_11f3b088_9e15_11eb_8795_f4b7e223a854row4_col6\" class=\"data row4 col6\" >-0.0129847</td>\n",
       "                        <td id=\"T_11f3b088_9e15_11eb_8795_f4b7e223a854row4_col7\" class=\"data row4 col7\" >-0.000775044</td>\n",
       "            </tr>\n",
       "            <tr>\n",
       "                        <th id=\"T_11f3b088_9e15_11eb_8795_f4b7e223a854level0_row5\" class=\"row_heading level0 row5\" >comments_disabled</th>\n",
       "                        <td id=\"T_11f3b088_9e15_11eb_8795_f4b7e223a854row5_col0\" class=\"data row5 col0\" >0.0413824</td>\n",
       "                        <td id=\"T_11f3b088_9e15_11eb_8795_f4b7e223a854row5_col1\" class=\"data row5 col1\" >0.0138883</td>\n",
       "                        <td id=\"T_11f3b088_9e15_11eb_8795_f4b7e223a854row5_col2\" class=\"data row5 col2\" >-0.0247054</td>\n",
       "                        <td id=\"T_11f3b088_9e15_11eb_8795_f4b7e223a854row5_col3\" class=\"data row5 col3\" >-0.00276963</td>\n",
       "                        <td id=\"T_11f3b088_9e15_11eb_8795_f4b7e223a854row5_col4\" class=\"data row5 col4\" >-0.0266685</td>\n",
       "                        <td id=\"T_11f3b088_9e15_11eb_8795_f4b7e223a854row5_col5\" class=\"data row5 col5\" >1</td>\n",
       "                        <td id=\"T_11f3b088_9e15_11eb_8795_f4b7e223a854row5_col6\" class=\"data row5 col6\" >0.287525</td>\n",
       "                        <td id=\"T_11f3b088_9e15_11eb_8795_f4b7e223a854row5_col7\" class=\"data row5 col7\" >-0.00276352</td>\n",
       "            </tr>\n",
       "            <tr>\n",
       "                        <th id=\"T_11f3b088_9e15_11eb_8795_f4b7e223a854level0_row6\" class=\"row_heading level0 row6\" >ratings_disabled</th>\n",
       "                        <td id=\"T_11f3b088_9e15_11eb_8795_f4b7e223a854row6_col0\" class=\"data row6 col0\" >-0.0145474</td>\n",
       "                        <td id=\"T_11f3b088_9e15_11eb_8795_f4b7e223a854row6_col1\" class=\"data row6 col1\" >0.0145187</td>\n",
       "                        <td id=\"T_11f3b088_9e15_11eb_8795_f4b7e223a854row6_col2\" class=\"data row6 col2\" >-0.0190265</td>\n",
       "                        <td id=\"T_11f3b088_9e15_11eb_8795_f4b7e223a854row6_col3\" class=\"data row6 col3\" >-0.00757631</td>\n",
       "                        <td id=\"T_11f3b088_9e15_11eb_8795_f4b7e223a854row6_col4\" class=\"data row6 col4\" >-0.0129847</td>\n",
       "                        <td id=\"T_11f3b088_9e15_11eb_8795_f4b7e223a854row6_col5\" class=\"data row6 col5\" >0.287525</td>\n",
       "                        <td id=\"T_11f3b088_9e15_11eb_8795_f4b7e223a854row6_col6\" class=\"data row6 col6\" >1</td>\n",
       "                        <td id=\"T_11f3b088_9e15_11eb_8795_f4b7e223a854row6_col7\" class=\"data row6 col7\" >-0.00139379</td>\n",
       "            </tr>\n",
       "            <tr>\n",
       "                        <th id=\"T_11f3b088_9e15_11eb_8795_f4b7e223a854level0_row7\" class=\"row_heading level0 row7\" >video_error_or_removed</th>\n",
       "                        <td id=\"T_11f3b088_9e15_11eb_8795_f4b7e223a854row7_col0\" class=\"data row7 col0\" >-0.0123905</td>\n",
       "                        <td id=\"T_11f3b088_9e15_11eb_8795_f4b7e223a854row7_col1\" class=\"data row7 col1\" >0.00591578</td>\n",
       "                        <td id=\"T_11f3b088_9e15_11eb_8795_f4b7e223a854row7_col2\" class=\"data row7 col2\" >-0.0011007</td>\n",
       "                        <td id=\"T_11f3b088_9e15_11eb_8795_f4b7e223a854row7_col3\" class=\"data row7 col3\" >0.00128834</td>\n",
       "                        <td id=\"T_11f3b088_9e15_11eb_8795_f4b7e223a854row7_col4\" class=\"data row7 col4\" >-0.000775044</td>\n",
       "                        <td id=\"T_11f3b088_9e15_11eb_8795_f4b7e223a854row7_col5\" class=\"data row7 col5\" >-0.00276352</td>\n",
       "                        <td id=\"T_11f3b088_9e15_11eb_8795_f4b7e223a854row7_col6\" class=\"data row7 col6\" >-0.00139379</td>\n",
       "                        <td id=\"T_11f3b088_9e15_11eb_8795_f4b7e223a854row7_col7\" class=\"data row7 col7\" >1</td>\n",
       "            </tr>\n",
       "    </tbody></table>"
      ],
      "text/plain": [
       "<pandas.io.formats.style.Styler at 0x655e91f470>"
      ]
     },
     "execution_count": 8,
     "metadata": {},
     "output_type": "execute_result"
    }
   ],
   "source": [
    "corr=df.corr()\n",
    "corr.style.background_gradient(cmap=\"rainbow\")"
   ]
  },
  {
   "cell_type": "markdown",
   "metadata": {},
   "source": [
    "# "
   ]
  },
  {
   "cell_type": "code",
   "execution_count": 9,
   "metadata": {},
   "outputs": [
    {
     "data": {
      "text/plain": [
       "0        22\n",
       "1        24\n",
       "2        23\n",
       "3        24\n",
       "4        24\n",
       "5        28\n",
       "6        24\n",
       "7        28\n",
       "8         1\n",
       "9        25\n",
       "10       17\n",
       "11       24\n",
       "12       10\n",
       "13       25\n",
       "14       15\n",
       "15       28\n",
       "16       23\n",
       "17       27\n",
       "18       28\n",
       "19       27\n",
       "20       27\n",
       "21       28\n",
       "22       27\n",
       "23       26\n",
       "24       23\n",
       "25       24\n",
       "26       28\n",
       "27       26\n",
       "28       25\n",
       "29        1\n",
       "         ..\n",
       "40363    17\n",
       "40364    24\n",
       "40365    20\n",
       "40366    20\n",
       "40367    23\n",
       "40475    22\n",
       "40488    24\n",
       "40540     1\n",
       "40549    20\n",
       "40550    20\n",
       "40552    26\n",
       "40553    24\n",
       "40554    20\n",
       "40563    23\n",
       "40567    26\n",
       "40749     1\n",
       "40750    24\n",
       "40751    20\n",
       "40752    20\n",
       "40753     1\n",
       "40754    24\n",
       "40755    10\n",
       "40756    10\n",
       "40757     1\n",
       "40759    22\n",
       "40760    26\n",
       "40761    17\n",
       "40762    24\n",
       "40764    26\n",
       "40766    24\n",
       "Name: category_id, Length: 6351, dtype: int64"
      ]
     },
     "execution_count": 9,
     "metadata": {},
     "output_type": "execute_result"
    }
   ],
   "source": [
    "df.category_id"
   ]
  },
  {
   "cell_type": "markdown",
   "metadata": {},
   "source": [
    "# Count the number videos of in each category"
   ]
  },
  {
   "cell_type": "code",
   "execution_count": 10,
   "metadata": {},
   "outputs": [
    {
     "data": {
      "text/plain": [
       "<matplotlib.axes._subplots.AxesSubplot at 0x655f55cda0>"
      ]
     },
     "execution_count": 10,
     "metadata": {},
     "output_type": "execute_result"
    },
    {
     "data": {
      "image/png": "[encoded data removed]",
      "text/plain": [
       "<Figure size 432x288 with 1 Axes>"
      ]
     },
     "metadata": {
      "needs_background": "light"
     },
     "output_type": "display_data"
    }
   ],
   "source": [
    "sns.countplot(x=df['category_id'])"
   ]
  },
  {
   "cell_type": "markdown",
   "metadata": {},
   "source": [
    "# Top 10 most influential creators' channels"
   ]
  },
  {
   "cell_type": "code",
   "execution_count": 11,
   "metadata": {},
   "outputs": [
    {
     "data": {
      "text/plain": [
       "ESPN                                      84\n",
       "TheEllenShow                              74\n",
       "The Tonight Show Starring Jimmy Fallon    72\n",
       "Jimmy Kimmel Live                         70\n",
       "Netflix                                   58\n",
       "The Late Show with Stephen Colbert        58\n",
       "NBA                                       55\n",
       "CNN                                       52\n",
       "Vox                                       47\n",
       "The Late Late Show with James Corden      46\n",
       "Refinery29                                40\n",
       "BuzzFeedVideo                             40\n",
       "Late Night with Seth Meyers               37\n",
       "NFL                                       36\n",
       "Saturday Night Live                       35\n",
       "WWE                                       34\n",
       "INSIDER                                   34\n",
       "First We Feast                            31\n",
       "Tasty                                     28\n",
       "Washington Post                           27\n",
       "SciShow                                   26\n",
       "WIRED                                     26\n",
       "Great Big Story                           26\n",
       "CollegeHumor                              25\n",
       "Life Noggin                               25\n",
       "FBE                                       25\n",
       "Screen Junkies                            25\n",
       "Vogue                                     25\n",
       "Warner Bros. Pictures                     24\n",
       "Tom Scott                                 24\n",
       "                                          ..\n",
       "souviendra                                 1\n",
       "Lofty Pursuits                             1\n",
       "East Idaho News                            1\n",
       "Cam'ron                                    1\n",
       "officer401                                 1\n",
       "World Eyes                                 1\n",
       "Vet Ranch                                  1\n",
       "SadeVEVO                                   1\n",
       "littlemixVEVO                              1\n",
       "Steeper33                                  1\n",
       "Squirrel Monkey                            1\n",
       "CYNVEVO                                    1\n",
       "Muselk                                     1\n",
       "David Jardine                              1\n",
       "Steve Kovach                               1\n",
       "Step Up: High Water                        1\n",
       "Torm place                                 1\n",
       "JAY                                        1\n",
       "Chilly Willy                               1\n",
       "mvt.ias                                    1\n",
       "Tamar Chronicles                           1\n",
       "Masters Of The Sun                         1\n",
       "Turn10Studios                              1\n",
       "Lauren Elizabeth                           1\n",
       "MILCK                                      1\n",
       "Geoff Mallinson                            1\n",
       "Smequle                                    1\n",
       "engineerguy                                1\n",
       "Science vs Cinema                          1\n",
       "Choir! Choir! Choir!                       1\n",
       "Name: channel_title, Length: 2198, dtype: int64"
      ]
     },
     "execution_count": 11,
     "metadata": {},
     "output_type": "execute_result"
    }
   ],
   "source": [
    "df.channel_title.value_counts()"
   ]
  },
  {
   "cell_type": "code",
   "execution_count": 12,
   "metadata": {},
   "outputs": [
    {
     "data": {
      "text/plain": [
       "Text(0.5, 0, 'Value count')"
      ]
     },
     "execution_count": 12,
     "metadata": {},
     "output_type": "execute_result"
    },
    {
     "data": {
      "image/png": "[encoded data removed]",
      "text/plain": [
       "<Figure size 432x288 with 1 Axes>"
      ]
     },
     "metadata": {
      "needs_background": "light"
     },
     "output_type": "display_data"
    }
   ],
   "source": [
    "plt.title(\"Distribution Of Top 10 Channels\",fontsize=15)\n",
    "sns.barplot(x=df.channel_title.value_counts()[:10].values,y=df.channel_title.value_counts()[:10].index)\n",
    "plt.xlabel('Value count')"
   ]
  },
  {
   "cell_type": "markdown",
   "metadata": {},
   "source": [
    "# The videos posted at what time had the most likes?"
   ]
  },
  {
   "cell_type": "code",
   "execution_count": 13,
   "metadata": {},
   "outputs": [],
   "source": [
    "df['month'] = pd.DatetimeIndex(df['publish_time']).month\n",
    "df['hour'] = pd.DatetimeIndex(df['publish_time']).hour"
   ]
  },
  {
   "cell_type": "code",
   "execution_count": 14,
   "metadata": {},
   "outputs": [
    {
     "data": {
      "text/plain": [
       "<matplotlib.axes._subplots.AxesSubplot at 0x655f6ab5f8>"
      ]
     },
     "execution_count": 14,
     "metadata": {},
     "output_type": "execute_result"
    },
    {
     "data": {
      "image/png": "[encoded data removed]",
      "text/plain": [
       "<Figure size 432x288 with 1 Axes>"
      ]
     },
     "metadata": {
      "needs_background": "light"
     },
     "output_type": "display_data"
    }
   ],
   "source": [
    "df['month'] = df['month'].astype('int')\n",
    "df['hour'] = df['hour'].astype('int')\n",
    "sns.scatterplot(x='hour', y='views', data=df)"
   ]
  },
  {
   "cell_type": "markdown",
   "metadata": {},
   "source": [
    "The graph shows that videos published around 23:00 at US Central Standard Time (21:00 PST and 00:00 EST) received the most views."
   ]
  },
  {
   "cell_type": "markdown",
   "metadata": {},
   "source": [
    "# Correlation between views and likes"
   ]
  },
  {
   "cell_type": "code",
   "execution_count": 15,
   "metadata": {},
   "outputs": [
    {
     "data": {
      "text/plain": [
       "Text(0.5, 1.0, 'likes vs. views')"
      ]
     },
     "execution_count": 15,
     "metadata": {},
     "output_type": "execute_result"
    },
    {
     "data": {
      "image/png": "[encoded data removed]",
      "text/plain": [
       "<Figure size 432x288 with 1 Axes>"
      ]
     },
     "metadata": {
      "needs_background": "light"
     },
     "output_type": "display_data"
    }
   ],
   "source": [
    "sns.scatterplot(x='views', y='likes', data=df)\n",
    "plt.title('likes vs. views')"
   ]
  },
  {
   "cell_type": "markdown",
   "metadata": {},
   "source": [
    "We see that views and likes are truly positively correlated: as one increases, the other increases too—mostly."
   ]
  },
  {
   "cell_type": "markdown",
   "metadata": {},
   "source": [
    "# publish year vs likes"
   ]
  },
  {
   "cell_type": "code",
   "execution_count": 16,
   "metadata": {},
   "outputs": [],
   "source": [
    "df['month'] = pd.DatetimeIndex(df['publish_time']).month\n",
    "df['year'] = pd.DatetimeIndex(df['publish_time']).year\n",
    "df['dayofweek'] = pd.DatetimeIndex(df['publish_time']).dayofweek\n",
    "\n",
    "df['month'] = df['month'].astype('int')\n",
    "df['year'] = df['year'].astype('int')\n",
    "df['dayofweek'] = df['dayofweek'].astype('int')"
   ]
  },
  {
   "cell_type": "code",
   "execution_count": 17,
   "metadata": {},
   "outputs": [],
   "source": [
    "df['trending_date'] = pd.to_datetime(df['trending_date'], format='%y.%d.%m').dt.date"
   ]
  },
  {
   "cell_type": "code",
   "execution_count": 18,
   "metadata": {},
   "outputs": [
    {
     "name": "stdout",
     "output_type": "stream",
     "text": [
      "2018    4129\n",
      "2017    2152\n",
      "2013      13\n",
      "2015      10\n",
      "2016       9\n",
      "2011       8\n",
      "2012       8\n",
      "2014       7\n",
      "2010       6\n",
      "2009       5\n",
      "2008       3\n",
      "2006       1\n",
      "Name: year, dtype: int64 year\n",
      "2006      459\n",
      "2008      198\n",
      "2009      196\n",
      "2010      237\n",
      "2011      359\n",
      "2012      255\n",
      "2013       57\n",
      "2014      343\n",
      "2015      292\n",
      "2016       33\n",
      "2017   27,243\n",
      "2018   38,854\n",
      "Name: likes, dtype: float64\n"
     ]
    }
   ],
   "source": [
    "print(df['year'].value_counts(),df.groupby('year')['likes'].mean() )"
   ]
  },
  {
   "cell_type": "code",
   "execution_count": 19,
   "metadata": {},
   "outputs": [
    {
     "data": {
      "text/plain": [
       "<matplotlib.axes._subplots.AxesSubplot at 0x655f745080>"
      ]
     },
     "execution_count": 19,
     "metadata": {},
     "output_type": "execute_result"
    },
    {
     "data": {
      "image/png": "[encoded data removed]",
      "text/plain": [
       "<Figure size 432x288 with 1 Axes>"
      ]
     },
     "metadata": {
      "needs_background": "light"
     },
     "output_type": "display_data"
    }
   ],
   "source": [
    "sns.barplot(x=df['year'], y=df['likes'])"
   ]
  },
  {
   "cell_type": "markdown",
   "metadata": {},
   "source": [
    "# publish month vs likes"
   ]
  },
  {
   "cell_type": "code",
   "execution_count": 20,
   "metadata": {},
   "outputs": [
    {
     "data": {
      "text/plain": [
       "<matplotlib.axes._subplots.AxesSubplot at 0x655f027ef0>"
      ]
     },
     "execution_count": 20,
     "metadata": {},
     "output_type": "execute_result"
    },
    {
     "data": {
      "image/png": "[encoded data removed]",
      "text/plain": [
       "<Figure size 432x288 with 1 Axes>"
      ]
     },
     "metadata": {
      "needs_background": "light"
     },
     "output_type": "display_data"
    }
   ],
   "source": [
    "sns.barplot(x=df['month'],y=df['likes'])"
   ]
  },
  {
   "cell_type": "markdown",
   "metadata": {},
   "source": [
    "# publish month vs likes"
   ]
  },
  {
   "cell_type": "code",
   "execution_count": 21,
   "metadata": {},
   "outputs": [
    {
     "data": {
      "text/plain": [
       "<matplotlib.axes._subplots.AxesSubplot at 0x655f81ec50>"
      ]
     },
     "execution_count": 21,
     "metadata": {},
     "output_type": "execute_result"
    },
    {
     "data": {
      "image/png": "[encoded data removed]",
      "text/plain": [
       "<Figure size 432x288 with 1 Axes>"
      ]
     },
     "metadata": {
      "needs_background": "light"
     },
     "output_type": "display_data"
    }
   ],
   "source": [
    "sns.barplot(x=df['dayofweek'],y=df['likes'])"
   ]
  },
  {
   "cell_type": "code",
   "execution_count": 22,
   "metadata": {},
   "outputs": [
    {
     "data": {
      "text/plain": [
       "<matplotlib.axes._subplots.AxesSubplot at 0x655f890048>"
      ]
     },
     "execution_count": 22,
     "metadata": {},
     "output_type": "execute_result"
    },
    {
     "data": {
      "image/png": "[encoded data removed]",
      "text/plain": [
       "<Figure size 432x288 with 1 Axes>"
      ]
     },
     "metadata": {
      "needs_background": "light"
     },
     "output_type": "display_data"
    }
   ],
   "source": [
    "df.boxplot(['likes','views'])"
   ]
  },
  {
   "cell_type": "markdown",
   "metadata": {},
   "source": [
    "# Boxplot of % of Likes on a Video By Category"
   ]
  },
  {
   "cell_type": "code",
   "execution_count": 23,
   "metadata": {},
   "outputs": [],
   "source": [
    "df['likes_perc']=df['likes']/(df['dislikes']+df['likes'])*100"
   ]
  },
  {
   "cell_type": "code",
   "execution_count": 24,
   "metadata": {},
   "outputs": [
    {
     "data": {
      "image/png": "[encoded data removed]",
      "text/plain": [
       "<Figure size 1152x720 with 1 Axes>"
      ]
     },
     "metadata": {
      "needs_background": "light"
     },
     "output_type": "display_data"
    }
   ],
   "source": [
    "plt.figure(figsize = (16, 10))\n",
    "\n",
    "sns.boxplot(x ='category_id', y ='likes_perc', data =df, palette ='Pastel1')\n",
    "plt.xticks(rotation=45)\n",
    "plt.xlabel('')\n",
    "plt.ylabel('% Likes', fontsize = 14)\n",
    "plt.title('Boxplot of Percantage of Likes on a Video By Category', fontsize = 16)\n",
    "plt.show()"
   ]
  },
  {
   "cell_type": "markdown",
   "metadata": {},
   "source": [
    "Category No25 with a higher median and larger spread of likes."
   ]
  },
  {
   "cell_type": "markdown",
   "metadata": {},
   "source": [
    "# Percentage of Videos with Comments Disabled"
   ]
  },
  {
   "cell_type": "code",
   "execution_count": 25,
   "metadata": {},
   "outputs": [],
   "source": [
    "comments_disabled = df['comments_disabled'].value_counts()"
   ]
  },
  {
   "cell_type": "code",
   "execution_count": 26,
   "metadata": {},
   "outputs": [
    {
     "data": {
      "text/plain": [
       "array([6250,  101], dtype=int64)"
      ]
     },
     "execution_count": 26,
     "metadata": {},
     "output_type": "execute_result"
    }
   ],
   "source": [
    "comments_disabled.values"
   ]
  },
  {
   "cell_type": "code",
   "execution_count": 27,
   "metadata": {},
   "outputs": [
    {
     "data": {
      "image/png": "[encoded data removed]",
      "text/plain": [
       "<Figure size 432x288 with 1 Axes>"
      ]
     },
     "metadata": {},
     "output_type": "display_data"
    }
   ],
   "source": [
    "fig, ax = plt.subplots()\n",
    "plt.rcParams['font.size']=14\n",
    "\n",
    "plt.pie(comments_disabled, labels=comments_disabled.index, \n",
    "        autopct='%1.1f%%', startangle=20,\n",
    "        pctdistance=1.2,labeldistance=1.4,\n",
    "        colors = ['purple', 'plum'])\n",
    "sns.set_style(\"darkgrid\")\n",
    "sns.set(font_scale=1.5)\n",
    "plt.title(\"Percentage of Videos with Comments Disabled\", fontsize=18)\n",
    "plt.axis('equal')\n",
    "plt.tight_layout()\n",
    "plt.show()"
   ]
  },
  {
   "cell_type": "markdown",
   "metadata": {},
   "source": [
    "1.5%of the videos are left with comments disabled while 98.4% of the vidoes are enabled with comments section."
   ]
  },
  {
   "cell_type": "code",
   "execution_count": null,
   "metadata": {},
   "outputs": [],
   "source": []
  },
  {
   "cell_type": "code",
   "execution_count": null,
   "metadata": {},
   "outputs": [],
   "source": []
  }
 ],
 "metadata": {
  "kernelspec": {
   "display_name": "Python 3",
   "language": "python",
   "name": "python3"
  },
  "language_info": {
   "codemirror_mode": {
    "name": "ipython",
    "version": 3
   },
   "file_extension": ".py",
   "mimetype": "text/x-python",
   "name": "python",
   "nbconvert_exporter": "python",
   "pygments_lexer": "ipython3",
   "version": "3.8.5"
  }
 },
 "nbformat": 4,
 "nbformat_minor": 2
}
